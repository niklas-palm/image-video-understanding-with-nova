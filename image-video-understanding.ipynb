{
 "cells": [
  {
   "cell_type": "markdown",
   "id": "262b056b-fdf2-484c-b604-2ce8388b7e7a",
   "metadata": {},
   "source": [
    "## Image and video understanding using Amazon Nova"
   ]
  },
  {
   "cell_type": "markdown",
   "id": "09e77c37-aecf-491e-b046-57f6e84d7956",
   "metadata": {},
   "source": [
    "### Set up helper methods and imports\n",
    "A few helper methods to interact with the Bedrock API anse parse inputs/outputs"
   ]
  },
  {
   "cell_type": "code",
   "execution_count": 93,
   "id": "2ae998ad-0841-4a65-ae10-fd28ca4994f3",
   "metadata": {},
   "outputs": [],
   "source": [
    "import boto3\n",
    "import os\n",
    "import json\n",
    "import base64\n",
    "import re\n",
    "\n",
    "bedrock = boto3.client(\n",
    "    service_name=\"bedrock-runtime\",\n",
    "    region_name=\"us-west-2\",\n",
    ")\n",
    "\n",
    "#MODEL_ID = \"us.amazon.nova-lite-v1:0\"\n",
    "MODEL_ID = \"us.amazon.nova-pro-v1:0\"\n",
    "\n",
    "\n",
    "def encode_file_to_base64(file_path):\n",
    "    # Extract file type from file_path\n",
    "    file_type = file_path.split(\".\")[-1]\n",
    "    \n",
    "    with open(file_path, \"rb\") as file:\n",
    "        encoded_string = base64.b64encode(file.read())\n",
    "        return encoded_string.decode(\"utf-8\"), file_type\n",
    "\n",
    "\n",
    "def is_path_to_video(path):\n",
    "    return os.path.isfile(path) and path.split(\".\")[-1] == \"mp4\"\n",
    "\n",
    "\n",
    "def is_path_to_image(path):\n",
    "    return os.path.isfile(path) and path.split(\".\")[-1].lower() in (\"jpeg\", \"jpg\", \"png\")\n",
    "\n",
    "\n",
    "def get_prompt_payload(args, prefill=None):\n",
    "    content = []\n",
    "\n",
    "    # Parse all provided arguments and formulate payload.\n",
    "    for arg in args:\n",
    "        if is_path_to_video(arg) or is_path_to_image(arg):\n",
    "            \n",
    "            KEY = \"video\" if is_path_to_video(arg) else \"image\"\n",
    "            print(f\"** {KEY} provided\")\n",
    "            encoded_file, file_type = encode_file_to_base64(arg)\n",
    "            \n",
    "            content.append(\n",
    "                {\n",
    "                    KEY: {\n",
    "                        \"format\": file_type,\n",
    "                        \"source\": {\"bytes\": encoded_file},\n",
    "                    }\n",
    "                }\n",
    "              )\n",
    "\n",
    "        else:\n",
    "            # Arg is text, i.e the prompt. Always keep the prompt that's \n",
    "            # referring to the image/video at the end of the request payload.\n",
    "            content.append({\"text\": arg})\n",
    "\n",
    "    messages = [\n",
    "            {\n",
    "                \"role\": \"user\",\n",
    "                \"content\": content,\n",
    "            }\n",
    "        ]\n",
    "\n",
    "    if prefill:\n",
    "        print('** Prefilling the reponse')\n",
    "        messages.append(\n",
    "            {\n",
    "                \"role\": \"assistant\",\n",
    "                \"content\": [{\"text\": prefill}],\n",
    "            }\n",
    "        )\n",
    "\n",
    "\n",
    "    prompt_config = {\n",
    "        # \"system\": \"You are a bla bla\", # Working with images/videos, it's best to include this in the final prompt instead of in the system prompt (which is added to the beginning of the prompt payload.)\n",
    "        \"inferenceConfig\": {\n",
    "            \"temperature\": 0\n",
    "        },\n",
    "        \"messages\": messages,\n",
    "    }\n",
    "\n",
    "    print('\\n')\n",
    "    return json.dumps(prompt_config)\n",
    "\n",
    "\n",
    "def invoke_model(*args, prefill=None):\n",
    "    payload = get_prompt_payload(args, prefill=prefill)\n",
    "    response = bedrock.invoke_model(\n",
    "        body=payload,\n",
    "        modelId=MODEL_ID,\n",
    "    )\n",
    "\n",
    "    return json.loads(response.get(\"body\").read())\n",
    "\n",
    "\n",
    "def get_completion_from_response(response):\n",
    "    return response[\"output\"][\"message\"][\"content\"][0][\"text\"]\n",
    "\n",
    "\n",
    "def extract_and_load_json(text):\n",
    "    # Find the JSON-like structure\n",
    "    match = re.search(r\"'''json\\n(.*?)'''\", text, re.DOTALL)\n",
    "    \n",
    "    if not match:\n",
    "        raise ValueError(\"No JSON object found in the string\")\n",
    "    \n",
    "    json_str = match.group(1)\n",
    "    \n",
    "    # Parse the JSON string\n",
    "    try:\n",
    "        json_obj = json.loads(json_str)\n",
    "        return json_obj\n",
    "    except json.JSONDecodeError as e:\n",
    "        raise ValueError(f\"Invalid JSON format: {e}\")"
   ]
  },
  {
   "cell_type": "markdown",
   "id": "840af04a-7301-41ac-8ff8-77b1e38ec41b",
   "metadata": {},
   "source": [
    "### Set base_dir for assets. \n",
    "\n",
    "Note that this may require updating! Valida"
   ]
  },
  {
   "cell_type": "code",
   "execution_count": 94,
   "id": "77c248cb-a6ac-4e78-814d-a5acc2505fa7",
   "metadata": {},
   "outputs": [
    {
     "name": "stdout",
     "output_type": "stream",
     "text": [
      "\n",
      " *** VERIFY THAT THIS IS CORRECT BEFORE CONTINUING ***\n",
      "\n",
      "The assest are located in: /home/sagemaker-user/playground/image-video-understanding/assets\n"
     ]
    }
   ],
   "source": [
    "from pathlib import Path\n",
    "\n",
    "current_dir = Path.cwd()\n",
    "assets_dir = current_dir.joinpath('image-video-understanding', 'assets')\n",
    "print('\\n *** VERIFY THAT THIS IS CORRECT BEFORE CONTINUING ***\\n')\n",
    "print('The assest are located in:', assets_dir)"
   ]
  },
  {
   "cell_type": "markdown",
   "id": "f27cafc4-5bef-4022-9e26-93b68720d024",
   "metadata": {},
   "source": [
    "### Simple prompt"
   ]
  },
  {
   "cell_type": "code",
   "execution_count": 95,
   "id": "c2e06074-4ccc-4d1b-bede-30cf272107ca",
   "metadata": {},
   "outputs": [
    {
     "name": "stdout",
     "output_type": "stream",
     "text": [
      "** image provided\n",
      "\n",
      "\n",
      "The image depicts a snowy landscape viewed from a window. A person is riding a snowmobile on a snow-covered path. The scene is set in a winter environment with mountains in the background.\n"
     ]
    }
   ],
   "source": [
    "prompt = \"\"\"\n",
    "Describe what's happening in the image above.\n",
    "\"\"\"\n",
    "\n",
    "response = invoke_model(f'{assets_dir}/image.png', prompt)\n",
    "print(get_completion_from_response(response))\n"
   ]
  },
  {
   "cell_type": "code",
   "execution_count": 96,
   "id": "1d87ff14-aa66-484c-a8c1-7dc6e12caf9b",
   "metadata": {},
   "outputs": [
    {
     "name": "stdout",
     "output_type": "stream",
     "text": [
      "** video provided\n",
      "\n",
      "\n",
      "The video shows a person riding a snowmobile across a snowy field. A dog follows behind the snowmobile.\n"
     ]
    }
   ],
   "source": [
    "prompt = \"\"\"\n",
    "Describe what's happening in the video above.\n",
    "\"\"\"\n",
    "\n",
    "response = invoke_model(f'{assets_dir}/video.mp4', prompt)\n",
    "print(get_completion_from_response(response))"
   ]
  },
  {
   "cell_type": "markdown",
   "id": "87f6d831-31c9-4ec5-89de-14b4fd018509",
   "metadata": {},
   "source": [
    "### Add more structure to the prompt"
   ]
  },
  {
   "cell_type": "code",
   "execution_count": 97,
   "id": "d60ad6a9-d879-4a48-b5b6-9a7237dc992e",
   "metadata": {},
   "outputs": [
    {
     "name": "stdout",
     "output_type": "stream",
     "text": [
      "** image provided\n",
      "\n",
      "\n",
      "{\n",
      "  \"description\": \"Welcome, folks, to what looks like a thrilling winter sports scene! We're looking at a snowy landscape, possibly a frozen lake or a wide, open field blanketed in white. In the foreground, there's a wooden deck or balcony, partially covered in snow, giving us a perfect vantage point. To the right, a person is riding a snowmobile, cutting through the snow with precision. The snowmobile is leaving a trail behind, indicating some serious speed and skill. In the background, we see a line of trees, their branches dusted with snow, and beyond them, a range of mountains, also capped with snow. The sky is overcast, suggesting it might be a chilly day. This image captures the essence of winter adventure and the joy of exploring the great outdoors on a snowmobile.\"\n",
      "}\n"
     ]
    }
   ],
   "source": [
    "prompt = \"\"\"\n",
    "## Instructions\n",
    "You are an image anlysis tool. \n",
    "Given the image above, you provide clear and comprehensive descriptions of the image, following the rules below.\n",
    "\n",
    "## Rules\n",
    "- You MUST describe the image in an engaging way, as if you are a sports commentator.\n",
    "- You MUST answer in a json object\n",
    "\n",
    "\"\"\"\n",
    "\n",
    "response = invoke_model(f'{assets_dir}/image.png', prompt)\n",
    "print(get_completion_from_response(response))\n"
   ]
  },
  {
   "cell_type": "code",
   "execution_count": 98,
   "id": "d69eda30-ce89-4b4f-baeb-31b7c056f050",
   "metadata": {},
   "outputs": [
    {
     "name": "stdout",
     "output_type": "stream",
     "text": [
      "** video provided\n",
      "\n",
      "\n",
      "{\n",
      "  \"description\": \"Welcome to an exhilarating display of winter sports! We're witnessing a thrilling snowmobile race set against the breathtaking backdrop of a snow-covered landscape. The scene unfolds from a vantage point, offering a panoramic view of the snowy terrain. As the race begins, a snowmobiler emerges, skillfully navigating the winding track. The snowmobiler maneuvers through the snow with precision, leaving a trail of excitement in their wake. The crisp air and pristine snow create the perfect setting for this adrenaline-fueled event. Spectators watch in awe as the snowmobiler speeds through the course, showcasing their prowess and determination. It's a true testament to the thrill of winter sports and the beauty of nature's winter wonderland.\"\n",
      "}\n"
     ]
    }
   ],
   "source": [
    "prompt = \"\"\"\n",
    "## Instructions\n",
    "You are a video anlysis tool. \n",
    "Given the video above, you provide clear and comprehensive descriptions of the video, following the rules below.\n",
    "\n",
    "## Rules\n",
    "- You MUST describe the video in an engaging way, as if you are a sports commentator.\n",
    "- You MUST answer in a json object\n",
    "\n",
    "\"\"\"\n",
    "\n",
    "response = invoke_model(f'{assets_dir}/video.mp4', prompt)\n",
    "print(get_completion_from_response(response))\n"
   ]
  },
  {
   "cell_type": "markdown",
   "id": "4330e9f7-02b5-4c8c-aa70-460c5a0ded62",
   "metadata": {},
   "source": [
    "### Entity extraction with response prefilling\n",
    "Let's specify a desired structured response format.\n",
    "To be certain we always get the response on a structured format, let's prefill the assistants response."
   ]
  },
  {
   "cell_type": "code",
   "execution_count": 99,
   "id": "3955b9c8-fef7-4f04-8411-29075b286a2f",
   "metadata": {},
   "outputs": [
    {
     "name": "stdout",
     "output_type": "stream",
     "text": [
      "** video provided\n",
      "** Prefilling the reponse\n",
      "\n",
      "\n",
      "\n",
      "'''json\n",
      "{\n",
      "\"num_people\": \"1\",\n",
      "  \"num_dogs\": \"1\",\n",
      "  \"num_snowmobiles\": \"1\",\n",
      "  \"num_cars\": \"0\",\n",
      "  \"num_horses\": \"0\",\n",
      "  \"scene_description\": \"A person is riding a snowmobile in a snowy field, with a dog following behind. The scene is viewed from a window with a wooden frame, showing a vast snowy landscape with trees and mountains in the distance.\"\n",
      "}\n",
      "'''\n"
     ]
    }
   ],
   "source": [
    "desired_info = {\n",
    "    \"num_people\": \"string\",\n",
    "    \"num_dogs\": \"string\",\n",
    "    \"num_snowmobiles\": \"string\",\n",
    "    \"num_cars\": \"string\",\n",
    "    \"num_horses\": \"string\",\n",
    "    \"scene_description\": \"string\",\n",
    "}\n",
    "\n",
    "prompt = f'''\n",
    "## Instructions\n",
    "You are an image anlysis tool. \n",
    "Given the image above, you analyse the image carefully, and extract the desired information on the schema provided below.\n",
    "You always follow the rules below.\n",
    "\n",
    "## Schema\n",
    "{desired_info}\n",
    "\n",
    "## Rules\n",
    "- You MUST analyse the image carefully and provide the desired information.\n",
    "- You MUST answer with a valid and parseable JSON object inside markdown tags\n",
    "\n",
    "Analyse the image according to the instructions\n",
    "'''\n",
    "\n",
    "# We start the assistants response, forcing it continue on the what we provide below.\n",
    "prefill = \"\"\"\n",
    "'''json\n",
    "{\n",
    "\"\"\"\n",
    "\n",
    "# pass in the prefill in addition to the image and prompt\n",
    "response = invoke_model(f'{assets_dir}/video.mp4', prompt, prefill=prefill)\n",
    "\n",
    "# add the prefill back to the generated text.\n",
    "complete_generation = prefill + get_completion_from_response(response)\n",
    "\n",
    "print(complete_generation)"
   ]
  },
  {
   "cell_type": "markdown",
   "id": "5f0e1fb2-2c8b-4618-b32c-280eacec535f",
   "metadata": {},
   "source": [
    "#### Access the structured response"
   ]
  },
  {
   "cell_type": "code",
   "execution_count": 100,
   "id": "51cab36f-c5f2-46d4-9a62-363483cc4018",
   "metadata": {},
   "outputs": [
    {
     "data": {
      "text/plain": [
       "'1'"
      ]
     },
     "execution_count": 100,
     "metadata": {},
     "output_type": "execute_result"
    }
   ],
   "source": [
    "parsed_json = extract_and_load_json(complete_generation)\n",
    "parsed_json.get('num_dogs')"
   ]
  },
  {
   "cell_type": "code",
   "execution_count": null,
   "id": "5ae63b99-89dc-433d-a3c1-e193472883a2",
   "metadata": {},
   "outputs": [],
   "source": []
  },
  {
   "cell_type": "code",
   "execution_count": null,
   "id": "7b3fcee0-04a7-45d9-96d5-adf6099ae005",
   "metadata": {},
   "outputs": [],
   "source": []
  }
 ],
 "metadata": {
  "kernelspec": {
   "display_name": "Python 3 (ipykernel)",
   "language": "python",
   "name": "python3"
  },
  "language_info": {
   "codemirror_mode": {
    "name": "ipython",
    "version": 3
   },
   "file_extension": ".py",
   "mimetype": "text/x-python",
   "name": "python",
   "nbconvert_exporter": "python",
   "pygments_lexer": "ipython3",
   "version": "3.10.14"
  }
 },
 "nbformat": 4,
 "nbformat_minor": 5
}
